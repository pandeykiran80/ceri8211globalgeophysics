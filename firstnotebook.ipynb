{
  "nbformat": 4,
  "nbformat_minor": 0,
  "metadata": {
    "colab": {
      "name": "firstnotebook.ipynb",
      "provenance": [],
      "collapsed_sections": [],
      "authorship_tag": "ABX9TyOFaA6mP4QFhYFXW4vPEV4I",
      "include_colab_link": true
    },
    "kernelspec": {
      "name": "python3",
      "display_name": "Python 3"
    }
  },
  "cells": [
    {
      "cell_type": "markdown",
      "metadata": {
        "id": "view-in-github",
        "colab_type": "text"
      },
      "source": [
        "<a href=\"https://colab.research.google.com/github/pandeykiran80/ceri8211globalgeophysics/blob/master/firstnotebook.ipynb\" target=\"_parent\"><img src=\"https://colab.research.google.com/assets/colab-badge.svg\" alt=\"Open In Colab\"/></a>"
      ]
    },
    {
      "cell_type": "code",
      "metadata": {
        "id": "hhrCo_60Hn2j",
        "colab_type": "code",
        "outputId": "538f4f72-7cb5-4f58-8745-705df8a0a5b8",
        "colab": {
          "base_uri": "https://localhost:8080/",
          "height": 295
        }
      },
      "source": [
        "#Python 3.7\n",
        "#GlobalGeophysics Homework1\n",
        "\"\"\" \n",
        "Create a vector and matrix and do dot product and making a scatter plot\n",
        "\n",
        "\"\"\"\n",
        "#=========================================================================\n",
        "#                        module\n",
        "#=========================================================================\n",
        "\n",
        "import numpy as np\n",
        "import matplotlib.pyplot as plt\n",
        "#=========================================================================\n",
        "#                     parameters\n",
        "#=========================================================================\n",
        "A = np.ones((10^4,10^4))    # 10^4*10^4 matrix\n",
        "x = np.ones((10^4,1))       # 10^4*1 vector\n",
        "#=========================================================================\n",
        "#                           compute\n",
        "#=========================================================================\n",
        "# change the ones to random variable (referred from google)\n",
        "Rand_A = A.shape\n",
        "for k in range(0, Rand_A[0]):\n",
        "    for l in range(0, Rand_A[1]):\n",
        "      A[k, l] = np.random.rand()\n",
        "\n",
        "Rand_x = x.shape\n",
        "for i in range(0, Rand_x[0]):\n",
        "    for j in range(0, Rand_x[1]):\n",
        "      x[i, j] = np.random.rand()\n",
        "\n",
        "# matrix and vector multiplication\n",
        "D_product = A.dot(x)\n",
        "#=========================================================================\n",
        "#                    plot\n",
        "#=========================================================================\n",
        "plt.plot(D_product, '*', label='data')\n",
        "plt.title('Scatter Plot')\n",
        "plt.xlabel('Data')\n",
        "plt.ylabel('Value')\n",
        "plt.show()"
      ],
      "execution_count": 1,
      "outputs": [
        {
          "output_type": "display_data",
          "data": {
            "image/png": "[encoded data removed]",
            "text/plain": [
              "<Figure size 432x288 with 1 Axes>"
            ]
          },
          "metadata": {
            "tags": []
          }
        }
      ]
    },
    {
      "cell_type": "code",
      "metadata": {
        "id": "crL1PvVYIgMv",
        "colab_type": "code",
        "colab": {}
      },
      "source": [
        ""
      ],
      "execution_count": 0,
      "outputs": []
    }
  ]
}