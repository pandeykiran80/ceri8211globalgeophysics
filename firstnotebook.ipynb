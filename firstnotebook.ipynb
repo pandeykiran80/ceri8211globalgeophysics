{
  "nbformat": 4,
  "nbformat_minor": 0,
  "metadata": {
    "colab": {
      "name": "firstnotebook.ipynb",
      "provenance": [],
      "collapsed_sections": [],
      "include_colab_link": true
    },
    "kernelspec": {
      "name": "python3",
      "display_name": "Python 3"
    }
  },
  "cells": [
    {
      "cell_type": "markdown",
      "metadata": {
        "id": "view-in-github",
        "colab_type": "text"
      },
      "source": [
        "<a href=\"https://colab.research.google.com/github/pandeykiran80/ceri8211globalgeophysics/blob/master/firstnotebook.ipynb\" target=\"_parent\"><img src=\"https://colab.research.google.com/assets/colab-badge.svg\" alt=\"Open In Colab\"/></a>"
      ]
    },
    {
      "cell_type": "code",
      "metadata": {
        "id": "iGzjNr4YeFGu",
        "colab_type": "code",
        "colab": {
          "base_uri": "https://localhost:8080/",
          "height": 54
        },
        "outputId": "13aae04c-4198-45f6-d8f0-1a9e87d76c32"
      },
      "source": [
        "\"\"\"\n",
        "EC: Nicely commented script!\n",
        "However, please know that when using Jupyter notebooks,\n",
        "you would want to separate tasks into cells rather than\n",
        "do everything in one cell. That's why the homework\n",
        "explicitly asked you to do so. Unfortunately, your code \n",
        "does not comply with it. I'm taking off 1 point for not \n",
        "following the instruction.\n",
        "\"\"\""
      ],
      "execution_count": 1,
      "outputs": [
        {
          "output_type": "execute_result",
          "data": {
            "text/plain": [
              "\"\\nEC: Nicely commented script!\\nHowever, please know that when using Jupyter notebooks,\\nyou would want to separate tasks into cells rather than\\ndo everything in one cell. That's why the homework\\nexplicitly asked you to do so. Unfortunately, your code \\ndoes not comply with it. I'm taking off 1 point for not \\nfollowing the instruction.\\n\""
            ]
          },
          "metadata": {
            "tags": []
          },
          "execution_count": 1
        }
      ]
    },
    {
      "cell_type": "code",
      "metadata": {
        "id": "hhrCo_60Hn2j",
        "colab_type": "code",
        "outputId": "b04b9920-6640-456a-cc37-789fcaabbd1a",
        "colab": {
          "base_uri": "https://localhost:8080/",
          "height": 312
        }
      },
      "source": [
        "#Python 3.7\n",
        "#GlobalGeophysics Homework1\n",
        "\"\"\" \n",
        "Create a vector and matrix and do dot product and making a scatter plot\n",
        "\n",
        "\"\"\"\n",
        "#=========================================================================\n",
        "#                        module\n",
        "#=========================================================================\n",
        "\n",
        "import numpy as np\n",
        "import matplotlib.pyplot as plt\n",
        "#=========================================================================\n",
        "#                     parameters\n",
        "#=========================================================================\n",
        "\"\"\"\n",
        "EC: The powering operator in python is '**', not '^'.\n",
        "'^' is the 'bitwise exclusive Or' operator:\n",
        "0 ^ 0 = 0\n",
        "0 ^ 1 = 1\n",
        "1 ^ 0 = 1\n",
        "1 ^ 1 = 0\n",
        "Taking off one point here, too, because this mistake should have been\n",
        "noticed from the much fewer data points in the plot than expected.\n",
        "\"\"\"\n",
        "A = np.ones((10^4,10^4))    # 10^4*10^4 matrix\n",
        "x = np.ones((10^4,1))       # 10^4*1 vector\n",
        "#=========================================================================\n",
        "#                           compute\n",
        "#=========================================================================\n",
        "# change the ones to random variable (referred from google)\n",
        "Rand_A = A.shape\n",
        "print(Rand_A[0],Rand_A[1])\n",
        "for k in range(0, Rand_A[0]):\n",
        "    for l in range(0, Rand_A[1]):\n",
        "      A[k, l] = np.random.rand()\n",
        "\n",
        "Rand_x = x.shape\n",
        "for i in range(0, Rand_x[0]):\n",
        "    for j in range(0, Rand_x[1]):\n",
        "      x[i, j] = np.random.rand()\n",
        "\"\"\"\n",
        "EC: As a general note, you can give a size tuple as an argument to\n",
        "np.random.rand(), which must be more efficient. When dealing with numpy\n",
        "arrays, you would want to avoid explicit uses of 'for' loops.\n",
        "\"\"\"\n",
        "\n",
        "# matrix and vector multiplication\n",
        "D_product = A.dot(x)\n",
        "#=========================================================================\n",
        "#                    plot\n",
        "#=========================================================================\n",
        "plt.plot(D_product, '*', label='data')\n",
        "plt.title('Scatter Plot')\n",
        "plt.xlabel('Data')\n",
        "plt.ylabel('Value')\n",
        "plt.show()"
      ],
      "execution_count": 3,
      "outputs": [
        {
          "output_type": "stream",
          "text": [
            "14 14\n"
          ],
          "name": "stdout"
        },
        {
          "output_type": "display_data",
          "data": {
            "image/png": "[encoded data removed]",
            "text/plain": [
              "<Figure size 432x288 with 1 Axes>"
            ]
          },
          "metadata": {
            "tags": []
          }
        }
      ]
    },
    {
      "cell_type": "code",
      "metadata": {
        "id": "crL1PvVYIgMv",
        "colab_type": "code",
        "colab": {}
      },
      "source": [
        ""
      ],
      "execution_count": 0,
      "outputs": []
    }
  ]
}