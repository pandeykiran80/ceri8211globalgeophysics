{
  "nbformat": 4,
  "nbformat_minor": 0,
  "metadata": {
    "colab": {
      "name": "Untitled3.ipynb",
      "provenance": [],
      "authorship_tag": "ABX9TyP2lRGsX2wgbDRwweEt7wbQ",
      "include_colab_link": true
    },
    "kernelspec": {
      "name": "python3",
      "display_name": "Python 3"
    }
  },
  "cells": [
    {
      "cell_type": "markdown",
      "metadata": {
        "id": "view-in-github",
        "colab_type": "text"
      },
      "source": [
        "<a href=\"https://colab.research.google.com/github/pandeykiran80/ceri8211globalgeophysics/blob/master/HW3_6c.ipynb\" target=\"_parent\"><img src=\"https://colab.research.google.com/assets/colab-badge.svg\" alt=\"Open In Colab\"/></a>"
      ]
    },
    {
      "cell_type": "code",
      "metadata": {
        "id": "Jb2-y58ZpZBk",
        "colab_type": "code",
        "colab": {}
      },
      "source": [
        "# Pyth0n 3.7\n",
        "\"\"\"\n",
        "HW3_6c: Ar-Ar isochron\n",
        "@author: Kiran Pandey\n",
        "\"\"\"\n",
        "#==============================================================================\n",
        "#                   Modules\n",
        "#==============================================================================\n",
        "import numpy as np\n",
        "import matplotlib.pyplot as plt\n",
        "\n",
        "#==============================================================================\n",
        "#                  parameters\n",
        "#==============================================================================\n",
        "Ar39_Ar36 = [1852, 1790, 1439, 3214, 2708]\n",
        "Ar40_Ar36 = [8855, 8439, 6867, 15380, 12979]\n",
        "\n",
        "#==============================================================================\n",
        "#                  Computation\n",
        "#==============================================================================\n",
        "\n",
        "isochron = np.polyfit(Ar39_Ar36,Ar40_Ar36,1 )\n",
        "x_axis = np.arange(0,  3500, 25)\n",
        "y_axis = np.polyval(isochron, x_axis)\n",
        "slope, intercept = np.polyfit(Ar39_Ar36,Ar40_Ar36,1 )\n",
        "print('Slope of the line is', slope)\n",
        "print('Intercept of the line is', intercept)\n",
        "\n",
        "#==============================================================================\n",
        "#                  Plot\n",
        "#==============================================================================\n",
        "dir_out='result'\n",
        "file_out1='Ar_ArIsochron.png'\n",
        "\n",
        "plt.figure(1,figsize=(8,8))\n",
        "plt.title(' Ar-Ar isochron diagram ', fontsize=16)\n",
        "plt.plot(x_axis,y_axis,'b-',ms=3)\n",
        "plt.plot(Ar39_Ar36,Ar40_Ar36,'k*',ms=10)\n",
        "plt.xlabel('Ar39/Ar36')\n",
        "plt.ylabel(' Ar40/Ar36 ')\n",
        "plt.savefig('%s/%s'%(dir_out,file_out1))"
      ],
      "execution_count": 0,
      "outputs": []
    }
  ]
}