{
 "cells": [
  {
   "cell_type": "code",
   "execution_count": 1,
   "metadata": {},
   "outputs": [],
   "source": [
    "import math as m\n",
    "import numpy as np"
   ]
  },
  {
   "cell_type": "code",
   "execution_count": 2,
   "metadata": {},
   "outputs": [],
   "source": [
    "#-- Utility Functions --------------------------------------------------------\n",
    "\n",
    "def alpha(lat_p,lon_p,lat_x,lon_x):\n",
    "    # \"\"\"\n",
    "    # lat_p: latitude of rotation pole P \n",
    "    # lon_p: longitude of roation pole P \n",
    "    # lat_x: latitude of point x on plate boundary \n",
    "    # lon_x: longitude of point x on plate boundary \n",
    "    # \"\"\"\n",
    "    return m.acos(np.cos(1.5708-lat_x)*np.cos(1.5708-lat_p) + np.sin(1.5708-lat_x)*np.sin(1.5708-lat_p)*np.cos(lon_p-lon_x))\n"
   ]
  },
  {
   "cell_type": "code",
   "execution_count": 3,
   "metadata": {},
   "outputs": [],
   "source": [
    "def C(lat_p,lon_p,lat_x,lon_x, a):\n",
    "        # \"\"\"\n",
    "    # lat_p: latitude of rotation pole P \n",
    "    # lon_p: longitude of roation pole P \n",
    "    # lat_x: latitude of point x on plate boundary \n",
    "    # lon_x: longitude of point x on plate boundary \n",
    "    # R    : Radius of earth\n",
    "    # a    : a from alpha\n",
    "    # \"\"\"\n",
    "    #return ((m.asin(m.cos(lat_p))*(m.sin(lon_p-lon_x))*(m.sin(a))))\n",
    "    return m.asin((np.cos(lat_p)*np.sin(lon_p-lon_x))/np.sin(a))\n",
    "    "
   ]
  },
  {
   "cell_type": "code",
   "execution_count": 4,
   "metadata": {},
   "outputs": [],
   "source": [
    "def velocity(omega,a,R):\n",
    "    # \"\"\"\n",
    "    # omega: angular velocity about rotaion pole\n",
    "    # R    : Radius of earth\n",
    "    # a    : a from alpha\n",
    "    # \"\"\"    \n",
    "    return omega*R*(m.sin(a))"
   ]
  },
  {
   "cell_type": "code",
   "execution_count": null,
   "metadata": {},
   "outputs": [],
   "source": []
  }
 ],
 "metadata": {
  "kernelspec": {
   "display_name": "Python 3",
   "language": "python",
   "name": "python3"
  },
  "language_info": {
   "codemirror_mode": {
    "name": "ipython",
    "version": 3
   },
   "file_extension": ".py",
   "mimetype": "text/x-python",
   "name": "python",
   "nbconvert_exporter": "python",
   "pygments_lexer": "ipython3",
   "version": "3.7.6"
  }
 },
 "nbformat": 4,
 "nbformat_minor": 4
}
