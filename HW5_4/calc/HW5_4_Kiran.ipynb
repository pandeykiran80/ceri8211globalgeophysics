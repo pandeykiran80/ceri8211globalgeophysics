{
 "cells": [
  {
   "cell_type": "code",
   "execution_count": 6,
   "metadata": {},
   "outputs": [],
   "source": [
    "# Python3.7\n",
    "\"\"\"\n",
    "HW5_4: Ch.2 Problem 3(a) of Fowler (2004\n",
    "@author: Kiran Pandey\n",
    "\"\"\"\n",
    "import numpy as np\n",
    "import math as m\n",
    "import calc.euler_pole as euler"
   ]
  },
  {
   "cell_type": "code",
   "execution_count": 7,
   "metadata": {},
   "outputs": [],
   "source": [
    "#+++++++++++++++++++++++++++++++++++++++++++++++++++++++++++++++++++++++++++++\n",
    "#                           Parameters\n",
    "#+++++++++++++++++++++++++++++++++++++++++++++++++++++++++++++++++++++++++++++\n",
    "# radius of earth\n",
    "R = 6371*1e5   \n",
    "#latitude of point x on plate boundary in degrees\n",
    "lat_x = (np.pi/180)*np.array([54,52,38,26,-13]) \n",
    "#longitude of point x on plate boundary in degrees\n",
    "lon_x = (np.pi/180)*np.array([169,-169,-122,-110,-112])\n",
    "#latitude of rotation pole P in degrees\n",
    "lat_p = (np.pi/180)*np.array([48.7, 48.7,48.7, 48.7,55.6])\n",
    "#longitude of rotation pole P in degrees\n",
    "lon_p = (np.pi/180)*np.array([-78.2, -78.2,-78.2, -78.2,-90.1])\n",
    "#angular velocity about rotaion pole\n",
    "omega = 1e-7*np.array([7.5,7.5,7.5,7.5,13.6])"
   ]
  },
  {
   "cell_type": "code",
   "execution_count": 8,
   "metadata": {},
   "outputs": [],
   "source": [
    "#+++++++++++++++++++++++++++++++++++++++++++++++++++++++++++++++++++++++++++++\n",
    "#                           Calculation\n",
    "#+++++++++++++++++++++++++++++++++++++++++++++++++++++++++++++++++++++++++++++\n",
    "a = np.zeros(len(lat_x))\n",
    "C = np.zeros(len(lat_x))\n",
    "v = np.zeros(len(lat_x))\n",
    "B = np.zeros(len(lat_x))\n",
    "for i in range(len(lat_x)):\n",
    "    # alpha in radian\n",
    "    a[i] = euler.alpha(lat_p[i],lon_p[i],lat_x[i],lon_x[i])\n",
    "    # C in radian\n",
    "    C[i] = euler.C(lat_p[i],lon_p[i],lat_x[i],lon_x[i], a[i])\n",
    "    # angular velociity in cm/yr\n",
    "    v[i] = (np.pi/180)*euler.velocity(omega[i],a[i],R)\n",
    "    #Azimuth of velocity vector with respect to north N\n",
    "    B[i] = 1.5708+C[i]"
   ]
  },
  {
   "cell_type": "code",
   "execution_count": 9,
   "metadata": {},
   "outputs": [
    {
     "name": "stdout",
     "output_type": "stream",
     "text": [
      "[62.77744783 54.10319414 33.08071339 33.54074944 71.02525191]\n",
      "[43.17410965 54.55402335 56.81783314 39.00978957 12.87555152]\n",
      "[133.17432011 144.55423381 146.8180436  129.01000003 102.87576198]\n",
      "[ 7.41589311  6.75571166  4.55193063  4.60788925 14.30078264]\n"
     ]
    }
   ],
   "source": [
    "#+++++++++++++++++++++++++++++++++++++++++++++++++++++++++++++++++++++++++++++\n",
    "#                           Output\n",
    "#+++++++++++++++++++++++++++++++++++++++++++++++++++++++++++++++++++++++++++++   \n",
    "a_deg  = 180/np.pi*a\n",
    "print(a_deg)\n",
    "C_deg  = 180/np.pi*C\n",
    "print(C_deg)\n",
    "B_deg  = 180/np.pi*B\n",
    "print(B_deg)\n",
    "v_CMperY = v\n",
    "print(v_CMperY)"
   ]
  },
  {
   "cell_type": "code",
   "execution_count": null,
   "metadata": {},
   "outputs": [],
   "source": []
  }
 ],
 "metadata": {
  "kernelspec": {
   "display_name": "Python 3",
   "language": "python",
   "name": "python3"
  },
  "language_info": {
   "codemirror_mode": {
    "name": "ipython",
    "version": 3
   },
   "file_extension": ".py",
   "mimetype": "text/x-python",
   "name": "python",
   "nbconvert_exporter": "python",
   "pygments_lexer": "ipython3",
   "version": "3.7.6"
  }
 },
 "nbformat": 4,
 "nbformat_minor": 4
}
