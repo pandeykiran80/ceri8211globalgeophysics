{
  "nbformat": 4,
  "nbformat_minor": 0,
  "metadata": {
    "colab": {
      "name": "Untitled6.ipynb",
      "provenance": [],
      "collapsed_sections": [],
      "authorship_tag": "ABX9TyPZyzqASQxnAY18jbBN1RsD",
      "include_colab_link": true
    },
    "kernelspec": {
      "name": "python3",
      "display_name": "Python 3"
    }
  },
  "cells": [
    {
      "cell_type": "markdown",
      "metadata": {
        "id": "view-in-github",
        "colab_type": "text"
      },
      "source": [
        "<a href=\"https://colab.research.google.com/github/pandeykiran80/ceri8211globalgeophysics/blob/master/HW4_3b.ipynb\" target=\"_parent\"><img src=\"https://colab.research.google.com/assets/colab-badge.svg\" alt=\"Open In Colab\"/></a>"
      ]
    },
    {
      "cell_type": "code",
      "metadata": {
        "id": "LiU0tzHspSvV",
        "colab_type": "code",
        "colab": {}
      },
      "source": [
        "#@Kiran Pandey: HW4-3b\n",
        "import numpy as np\n",
        "import pylab\n",
        "Polynomial = np.polynomial.Polynomial\n",
        "#===================================================\n"
      ],
      "execution_count": 0,
      "outputs": []
    },
    {
      "cell_type": "code",
      "metadata": {
        "id": "1Oc196sT4c2-",
        "colab_type": "code",
        "colab": {}
      },
      "source": [
        "#North, East and Vertical components\n",
        "N =1e-5*np.array([1.23, 0.91, 0.68, 0.47, 0.26])\n",
        "E =1e-5*np.array([2.21, 1.72, 1.24, .88, 0.51])\n",
        "V =1e-5*np.array([4.403, 3.34, 2.67, 1.85, 1.03])\n",
        "#==================================================="
      ],
      "execution_count": 0,
      "outputs": []
    },
    {
      "cell_type": "code",
      "metadata": {
        "id": "WHtPAtJk4nTq",
        "colab_type": "code",
        "colab": {
          "base_uri": "https://localhost:8080/",
          "height": 307
        },
        "outputId": "5e21ce4d-05ce-4f75-baab-2976e4d7da3a"
      },
      "source": [
        "#Plotting\n",
        "cmin, cmax = min(E), max(E)\n",
        "pfit, stats = Polynomial.fit(E, N, 1, full=True, window=(cmin, cmax),\n",
        "                                                    domain=(cmin, cmax))\n",
        "print(pfit) # intercept & slope\n",
        "pylab.plot(E, N, 'o', color='k')\n",
        "pylab.plot(E, pfit(E), color='k')\n",
        "pylab.xlabel('East component(A/m)')\n",
        "pylab.ylabel('North component(A/m)')\n",
        "pylab.show()\n",
        "#         Intercept        Slope"
      ],
      "execution_count": 39,
      "outputs": [
        {
          "output_type": "stream",
          "text": [
            "poly([-2.68152754e-07  5.61597009e-01])\n"
          ],
          "name": "stdout"
        },
        {
          "output_type": "display_data",
          "data": {
            "image/png": "[encoded data removed]",
            "text/plain": [
              "<Figure size 432x288 with 1 Axes>"
            ]
          },
          "metadata": {
            "tags": []
          }
        }
      ]
    }
  ]
}